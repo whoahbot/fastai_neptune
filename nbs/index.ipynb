{
 "cells": [
  {
   "cell_type": "markdown",
   "metadata": {},
   "source": [
    "# Neptune.ai\n",
    "\n",
    "> Integration with [neptune.ai](https://www.neptune.ai).\n",
    "\n",
    "> [Track fastai experiments](https://docs.neptune.ai/integrations/fast_ai.html) like in this example project."
   ]
  },
  {
   "cell_type": "markdown",
   "metadata": {},
   "source": [
    "## Install"
   ]
  },
  {
   "cell_type": "markdown",
   "metadata": {},
   "source": [
    "`pip install fastai_neptune`"
   ]
  },
  {
   "cell_type": "markdown",
   "metadata": {},
   "source": [
    "## Registration\n",
    "1. Create **free** account: [neptune.ai/register](https://neptune.ai/register).\n",
    "2. Export API token to the environment variable (more help [here](https://docs.neptune.ai/python-api/tutorials/get-started.html#copy-api-token)). In your terminal run:\n",
    "\n",
    "```\n",
    "export NEPTUNE_API_TOKEN='YOUR_LONG_API_TOKEN'\n",
    "```\n",
    "\n",
    "or append the command above to your `~/.bashrc` or `~/.bash_profile` files (**recommended**). More help is [here](https://docs.neptune.ai/python-api/tutorials/get-started.html#copy-api-token).\n",
    "\n",
    "## Installation\n",
    "1. You need to install neptune-client. In your terminal run:\n",
    "\n",
    "```\n",
    "pip install neptune-client\n",
    "```\n",
    "\n",
    "or (alternative installation using conda). In your terminal run:\n",
    "\n",
    "```\n",
    "conda install neptune-client -c conda-forge\n",
    "```\n",
    "2. Install [psutil](https://psutil.readthedocs.io/en/latest/) to see hardware monitoring charts:\n",
    "\n",
    "```\n",
    "pip install psutil\n",
    "```"
   ]
  },
  {
   "cell_type": "markdown",
   "metadata": {},
   "source": [
    "## How to use\n",
    "\n",
    "Key is to call `neptune.init()` before you create `cnn_learner()`. A new experiment will be created before model fitting.\n",
    "\n",
    "Use `NeptuneCallback` in your `Learner`, like this:\n",
    "\n",
    "```\n",
    "from fastai.callback.neptune import NeptuneCallback\n",
    "\n",
    "neptune.init('USERNAME/PROJECT_NAME')  # specify your project here\n",
    "\n",
    "learn = cnn_learner(dls, resnet18, metrics=error_rate, cbs=NeptuneCallback())\n",
    "learn.fit_one_cycle(1)\n",
    "```\n"
   ]
  },
  {
   "cell_type": "code",
   "execution_count": null,
   "metadata": {},
   "outputs": [],
   "source": []
  }
 ],
 "metadata": {
  "kernelspec": {
   "display_name": "Python 3",
   "language": "python",
   "name": "python3"
  }
 },
 "nbformat": 4,
 "nbformat_minor": 2
}
